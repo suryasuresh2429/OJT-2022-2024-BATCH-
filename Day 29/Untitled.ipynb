{
 "cells": [
  {
   "cell_type": "code",
   "execution_count": 1,
   "id": "8d8fd13c-7473-4b2e-aa62-76fb336adb2e",
   "metadata": {
    "tags": []
   },
   "outputs": [],
   "source": [
    "#while loop"
   ]
  },
  {
   "cell_type": "code",
   "execution_count": 2,
   "id": "b49dd13a-76cd-422a-b388-932c8eb5db45",
   "metadata": {
    "tags": []
   },
   "outputs": [
    {
     "name": "stdout",
     "output_type": "stream",
     "text": [
      "2\n",
      "3\n",
      "4\n",
      "5\n",
      "6\n",
      "7\n"
     ]
    }
   ],
   "source": [
    "i=2\n",
    "while i<8:\n",
    "    print(i)\n",
    "    i+=1"
   ]
  },
  {
   "cell_type": "code",
   "execution_count": 3,
   "id": "ae718056-fcb9-465d-98d5-a5415ac2216f",
   "metadata": {
    "tags": []
   },
   "outputs": [
    {
     "name": "stdout",
     "output_type": "stream",
     "text": [
      "The sum is  210\n"
     ]
    }
   ],
   "source": [
    "#Program to add natural numbers up to\n",
    "#add=1+2+3+...+n\n",
    "n=20\n",
    "add=0\n",
    "i=1 #counter value\n",
    "while i<=n:\n",
    "    add=add+i\n",
    "    i=i+1 #counter updated\n",
    "print(\"The sum is \",add)"
   ]
  },
  {
   "cell_type": "code",
   "execution_count": 4,
   "id": "c2832956-608b-467b-b12f-ff6820c9eec2",
   "metadata": {
    "tags": []
   },
   "outputs": [],
   "source": [
    "#Break statement"
   ]
  },
  {
   "cell_type": "code",
   "execution_count": 5,
   "id": "829d5e7f-facc-4c78-a9ae-76b23be30be4",
   "metadata": {
    "tags": []
   },
   "outputs": [
    {
     "name": "stdout",
     "output_type": "stream",
     "text": [
      "9\n",
      "8\n",
      "7\n",
      "6\n"
     ]
    }
   ],
   "source": [
    "a=10\n",
    "while a>0:\n",
    "    a-=1\n",
    "    if(a!=5):\n",
    "        print(a)\n",
    "    else:\n",
    "        break"
   ]
  },
  {
   "cell_type": "code",
   "execution_count": 6,
   "id": "681a1100-d0ce-4c5b-ab76-05c552481f22",
   "metadata": {
    "tags": []
   },
   "outputs": [
    {
     "name": "stdout",
     "output_type": "stream",
     "text": [
      "p\n",
      "y\n",
      "t\n",
      "Loop ends\n"
     ]
    }
   ],
   "source": [
    "for a in \"python\":\n",
    "    if a ==\"h\":\n",
    "        break\n",
    "    print(a)\n",
    "print(\"Loop ends\")"
   ]
  },
  {
   "cell_type": "code",
   "execution_count": 7,
   "id": "8bf75ab0-e770-4071-b16d-06c55b0a0c4c",
   "metadata": {
    "tags": []
   },
   "outputs": [],
   "source": [
    "#Continue Statement"
   ]
  },
  {
   "cell_type": "code",
   "execution_count": 8,
   "id": "013822c4-b299-409d-8af7-3576f23c504f",
   "metadata": {
    "tags": []
   },
   "outputs": [
    {
     "name": "stdout",
     "output_type": "stream",
     "text": [
      "9\n",
      "8\n",
      "7\n",
      "6\n",
      "4\n",
      "3\n",
      "2\n",
      "1\n",
      "0\n"
     ]
    }
   ],
   "source": [
    "a=10\n",
    "while a>0:\n",
    "    a-=1\n",
    "    if(a!=5):\n",
    "        print(a)\n",
    "    else:\n",
    "        continue #skip 5 and loop is on iteration"
   ]
  },
  {
   "cell_type": "code",
   "execution_count": 9,
   "id": "3785f375-bd46-4354-9d47-553cfa393824",
   "metadata": {
    "tags": []
   },
   "outputs": [
    {
     "name": "stdout",
     "output_type": "stream",
     "text": [
      "p\n",
      "y\n",
      "t\n",
      "o\n",
      "n\n",
      "Loop ends\n"
     ]
    }
   ],
   "source": [
    "for a in \"python\":\n",
    "    if a==\"h\":\n",
    "        continue\n",
    "    print(a)\n",
    "print(\"Loop ends\")"
   ]
  },
  {
   "cell_type": "code",
   "execution_count": 10,
   "id": "8526292f-741b-4fb0-a7ae-1d8ef112edeb",
   "metadata": {
    "tags": []
   },
   "outputs": [],
   "source": [
    "#PASS"
   ]
  },
  {
   "cell_type": "code",
   "execution_count": 11,
   "id": "24946630-aa71-492d-aa62-348aa88d0dfc",
   "metadata": {
    "tags": []
   },
   "outputs": [],
   "source": [
    "v1={'p','a','s','s'}\n",
    "for v in v1:\n",
    "    pass"
   ]
  },
  {
   "cell_type": "code",
   "execution_count": 12,
   "id": "6a6502b5-f80a-48a4-a880-eeff788618f4",
   "metadata": {
    "tags": []
   },
   "outputs": [],
   "source": [
    "# While Loop"
   ]
  },
  {
   "cell_type": "code",
   "execution_count": 13,
   "id": "d847dc45-bb70-439b-bc47-53d061995e88",
   "metadata": {
    "tags": []
   },
   "outputs": [
    {
     "name": "stdout",
     "output_type": "stream",
     "text": [
      "1\n",
      "2\n",
      "3\n",
      "4\n",
      "5\n",
      "6\n",
      "7\n",
      "8\n",
      "9\n",
      "10\n",
      "11\n",
      "12\n",
      "13\n",
      "14\n",
      "15\n",
      "16\n",
      "17\n",
      "18\n",
      "19\n",
      "20\n"
     ]
    }
   ],
   "source": [
    "i=1\n",
    "while(i<=20):\n",
    "    print(i)\n",
    "    i=i+1"
   ]
  },
  {
   "cell_type": "code",
   "execution_count": 14,
   "id": "b72904a6-c56b-476b-be48-a0f0fdf57b71",
   "metadata": {
    "tags": []
   },
   "outputs": [
    {
     "name": "stdin",
     "output_type": "stream",
     "text": [
      "Enter a Number: 2\n"
     ]
    },
    {
     "name": "stdout",
     "output_type": "stream",
     "text": [
      "2\n",
      "4\n",
      "6\n",
      "8\n",
      "10\n",
      "12\n",
      "14\n",
      "16\n",
      "18\n",
      "20\n"
     ]
    }
   ],
   "source": [
    "num=int(input(\"Enter a Number:\"))\n",
    "i=1\n",
    "while(i<=10):\n",
    "    print(num*i)\n",
    "    i=i+1"
   ]
  },
  {
   "cell_type": "code",
   "execution_count": 15,
   "id": "8a1bfc73-2b61-420e-99fc-43b136353340",
   "metadata": {
    "tags": []
   },
   "outputs": [
    {
     "name": "stdin",
     "output_type": "stream",
     "text": [
      "Enter a Number: 5\n"
     ]
    },
    {
     "name": "stdout",
     "output_type": "stream",
     "text": [
      "5\n"
     ]
    }
   ],
   "source": [
    "num=int(input(\"Enter a Number:\"))\n",
    "rev=0\n",
    "while(num!=0):\n",
    "    rem=num%10\n",
    "    rev=rev*10+rem\n",
    "    num=int(num/10)\n",
    "print(rev)"
   ]
  },
  {
   "cell_type": "code",
   "execution_count": 16,
   "id": "ad552ed6-1408-4b5a-a76a-cde82e2dd3ce",
   "metadata": {
    "tags": []
   },
   "outputs": [],
   "source": [
    "#While loop with else\n"
   ]
  },
  {
   "cell_type": "code",
   "execution_count": 28,
   "id": "ac913f54-c2f1-42bc-9a53-f5087f173799",
   "metadata": {
    "tags": []
   },
   "outputs": [
    {
     "name": "stdin",
     "output_type": "stream",
     "text": [
      "Enter a Number :  4\n"
     ]
    },
    {
     "name": "stdout",
     "output_type": "stream",
     "text": [
      "4 is not a prime number ...\n"
     ]
    }
   ],
   "source": [
    "#prime number or not\n",
    "num = int(input(\"Enter a Number : \"))\n",
    "i=2;\n",
    "while(i<num):\n",
    "    if(num%i==0):\n",
    "        print(\"%d is not a prime number ...\"%num)\n",
    "        break\n",
    "        i=i+1\n",
    "    else:\n",
    "        print(\"%d is a prime number..\"%num)"
   ]
  },
  {
   "cell_type": "code",
   "execution_count": null,
   "id": "e6607247-64f6-41ee-83e3-5ade75b4d3c1",
   "metadata": {},
   "outputs": [],
   "source": []
  }
 ],
 "metadata": {
  "kernelspec": {
   "display_name": "Python 3 (ipykernel)",
   "language": "python",
   "name": "python3"
  },
  "language_info": {
   "codemirror_mode": {
    "name": "ipython",
    "version": 3
   },
   "file_extension": ".py",
   "mimetype": "text/x-python",
   "name": "python",
   "nbconvert_exporter": "python",
   "pygments_lexer": "ipython3",
   "version": "3.11.5"
  }
 },
 "nbformat": 4,
 "nbformat_minor": 5
}
