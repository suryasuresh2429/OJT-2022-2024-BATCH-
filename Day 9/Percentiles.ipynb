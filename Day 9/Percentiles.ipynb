{
 "cells": [
  {
   "cell_type": "code",
   "execution_count": 1,
   "id": "c9cbacc1-d5c5-4635-9ba8-15a1dbeb85ac",
   "metadata": {
    "tags": []
   },
   "outputs": [
    {
     "name": "stdout",
     "output_type": "stream",
     "text": [
      "43.0\n"
     ]
    }
   ],
   "source": [
    "import numpy\n",
    "\n",
    "ages = [5,31,43,48,50,41,7,11,15,39,80,82,32,2,8,6,25,36,27,61,31]\n",
    "\n",
    "x = numpy.percentile(ages, 75)\n",
    "\n",
    "print(x)\n"
   ]
  },
  {
   "cell_type": "code",
   "execution_count": 2,
   "id": "65205069-52ca-404a-a4ce-5c921b2fa423",
   "metadata": {
    "tags": []
   },
   "outputs": [
    {
     "name": "stdout",
     "output_type": "stream",
     "text": [
      "61.0\n"
     ]
    }
   ],
   "source": [
    "import numpy\n",
    "\n",
    "ages = [5,31,43,48,50,41,7,11,15,39,80,82,32,2,8,6,25,36,27,61,31]\n",
    "\n",
    "x = numpy.percentile(ages, 90)\n",
    "\n",
    "print(x)"
   ]
  },
  {
   "cell_type": "code",
   "execution_count": 3,
   "id": "cd792804-1102-4855-8772-74156235a97d",
   "metadata": {
    "tags": []
   },
   "outputs": [
    {
     "name": "stdout",
     "output_type": "stream",
     "text": [
      "25th Percentile (Q1): 3.25\n",
      "50th Percentile (Median): 5.5\n",
      "75th Percentile (Q3): 7.75\n"
     ]
    }
   ],
   "source": [
    "import numpy as np\n",
    "\n",
    "# Sample data\n",
    "data = [1, 2, 3, 4, 5, 6, 7, 8, 9, 10]\n",
    "\n",
    "# Calculate 25th, 50th, and 75th percentiles\n",
    "percentile_25 = np.percentile(data, 25)\n",
    "percentile_50 = np.percentile(data, 50)\n",
    "percentile_75 = np.percentile(data, 75)\n",
    "\n",
    "print(f\"25th Percentile (Q1): {percentile_25}\")\n",
    "print(f\"50th Percentile (Median): {percentile_50}\")\n",
    "print(f\"75th Percentile (Q3): {percentile_75}\")\n"
   ]
  },
  {
   "cell_type": "code",
   "execution_count": 4,
   "id": "0452fec2-0508-4183-a960-5f8c9ba9f86f",
   "metadata": {
    "tags": []
   },
   "outputs": [
    {
     "name": "stdout",
     "output_type": "stream",
     "text": [
      "25th Percentile (Q1): 3.25\n",
      "50th Percentile (Median): 5.5\n",
      "75th Percentile (Q3): 7.75\n"
     ]
    }
   ],
   "source": [
    "import pandas as pd\n",
    "\n",
    "# Sample data\n",
    "data = [1, 2, 3, 4, 5, 6, 7, 8, 9, 10]\n",
    "series = pd.Series(data)\n",
    "\n",
    "# Calculate 25th, 50th, and 75th percentiles\n",
    "percentile_25 = series.quantile(0.25)\n",
    "percentile_50 = series.quantile(0.50)\n",
    "percentile_75 = series.quantile(0.75)\n",
    "\n",
    "print(f\"25th Percentile (Q1): {percentile_25}\")\n",
    "print(f\"50th Percentile (Median): {percentile_50}\")\n",
    "print(f\"75th Percentile (Q3): {percentile_75}\")\n"
   ]
  },
  {
   "cell_type": "code",
   "execution_count": 5,
   "id": "b64c7387-1409-4261-920f-ed8b4653335d",
   "metadata": {
    "tags": []
   },
   "outputs": [
    {
     "data": {
      "image/png": "[encoded data removed]",
      "text/plain": [
       "<Figure size 640x480 with 1 Axes>"
      ]
     },
     "metadata": {},
     "output_type": "display_data"
    }
   ],
   "source": [
    "import matplotlib.pyplot as plt\n",
    "import seaborn as sns\n",
    "\n",
    "# Sample data\n",
    "data = [1, 2, 3, 4, 5, 6, 7, 8, 9, 10]\n",
    "\n",
    "# Create a box plot\n",
    "sns.boxplot(data=data)\n",
    "\n",
    "# Add percentiles to the plot\n",
    "plt.axhline(y=np.percentile(data, 25), color='r', linestyle='--', label='25th Percentile')\n",
    "plt.axhline(y=np.percentile(data, 50), color='g', linestyle='--', label='50th Percentile')\n",
    "plt.axhline(y=np.percentile(data, 75), color='b', linestyle='--', label='75th Percentile')\n",
    "\n",
    "plt.legend()\n",
    "plt.show()\n"
   ]
  },
  {
   "cell_type": "code",
   "execution_count": null,
   "id": "647e0d17-95ad-4d7d-aac5-150536bdac92",
   "metadata": {},
   "outputs": [],
   "source": []
  }
 ],
 "metadata": {
  "kernelspec": {
   "display_name": "Python 3 (ipykernel)",
   "language": "python",
   "name": "python3"
  },
  "language_info": {
   "codemirror_mode": {
    "name": "ipython",
    "version": 3
   },
   "file_extension": ".py",
   "mimetype": "text/x-python",
   "name": "python",
   "nbconvert_exporter": "python",
   "pygments_lexer": "ipython3",
   "version": "3.11.5"
  }
 },
 "nbformat": 4,
 "nbformat_minor": 5
}
