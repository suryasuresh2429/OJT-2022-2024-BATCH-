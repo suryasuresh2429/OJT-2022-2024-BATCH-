{
 "cells": [
  {
   "cell_type": "code",
   "execution_count": 1,
   "id": "e5827504-c7bd-4a4c-b358-e68e6451d725",
   "metadata": {
    "tags": []
   },
   "outputs": [
    {
     "name": "stdout",
     "output_type": "stream",
     "text": [
      "Given number 12321 is a palindrome\n",
      "Given number 12345 is not a palindrome\n",
      "220 and 284 are amicable numbers\n",
      "Result of right shift of 60 by 2 positions is 15\n",
      "145 is a strong number\n"
     ]
    }
   ],
   "source": [
    "def factorial(num):\n",
    "    if num == 0:\n",
    "        return 1\n",
    "    else:\n",
    "        return num * factorial(num - 1)\n",
    "\n",
    "def is_palindrome(num):\n",
    "    num_str = str(num)\n",
    "    return num_str == num_str[::-1]\n",
    "\n",
    "def sum_proper_divisors(n):\n",
    "    divisors = [1]\n",
    "    for i in range(2, int(n/2) + 1):\n",
    "        if n % i == 0:\n",
    "            divisors.append(i)\n",
    "    return sum(divisors)\n",
    "\n",
    "def check_amicable_numbers(num1, num2):\n",
    "    if num1 == num2:\n",
    "        return False\n",
    "    return sum_proper_divisors(num1) == num2 and sum_proper_divisors(num2) == num1\n",
    "\n",
    "def right_shift(num, n):\n",
    "    return num >> n\n",
    "\n",
    "def factorial_digit(digit):\n",
    "    if digit == 0:\n",
    "        return 1\n",
    "    else:\n",
    "        return factorial(digit)\n",
    "\n",
    "def check_strong_number(num):\n",
    "    num_str = str(num)\n",
    "    sum_factorials = sum(factorial_digit(int(digit)) for digit in num_str)\n",
    "    return sum_factorials == num\n",
    "\n",
    "num1 = 12321\n",
    "num2 = 12345\n",
    "if is_palindrome(num1):\n",
    "    print(f\"Given number {num1} is a palindrome\")\n",
    "else:\n",
    "    print(f\"Given number {num1} is not a palindrome\")\n",
    "\n",
    "if is_palindrome(num2):\n",
    "    print(f\"Given number {num2} is a palindrome\")\n",
    "else:\n",
    "    print(f\"Given number {num2} is not a palindrome\")\n",
    "\n",
    "num1 = 220\n",
    "num2 = 284\n",
    "if check_amicable_numbers(num1, num2):\n",
    "    print(f\"{num1} and {num2} are amicable numbers\")\n",
    "else:\n",
    "    print(f\"{num1} and {num2} are not amicable numbers\")\n",
    "\n",
    "num = 60\n",
    "n = 2\n",
    "result = right_shift(num, n)\n",
    "print(f\"Result of right shift of {num} by {n} positions is {result}\")\n",
    "\n",
    "num = 145\n",
    "if check_strong_number(num):\n",
    "    print(f\"{num} is a strong number\")\n",
    "else:\n",
    "    print(f\"{num} is not a strong number\")\n"
   ]
  },
  {
   "cell_type": "code",
   "execution_count": null,
   "id": "ce54c174-9ac2-4c27-9ea0-7d4323f8fef6",
   "metadata": {},
   "outputs": [],
   "source": []
  }
 ],
 "metadata": {
  "kernelspec": {
   "display_name": "Python 3 (ipykernel)",
   "language": "python",
   "name": "python3"
  },
  "language_info": {
   "codemirror_mode": {
    "name": "ipython",
    "version": 3
   },
   "file_extension": ".py",
   "mimetype": "text/x-python",
   "name": "python",
   "nbconvert_exporter": "python",
   "pygments_lexer": "ipython3",
   "version": "3.11.5"
  }
 },
 "nbformat": 4,
 "nbformat_minor": 5
}
